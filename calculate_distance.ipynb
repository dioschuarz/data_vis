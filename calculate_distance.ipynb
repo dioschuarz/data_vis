{
  "nbformat": 4,
  "nbformat_minor": 0,
  "metadata": {
    "colab": {
      "name": "Calculate_distance.ipynb",
      "provenance": [],
      "authorship_tag": "ABX9TyPCBo91VhSeMp+OWdIluUEu"
    },
    "kernelspec": {
      "name": "python3",
      "display_name": "Python 3"
    },
    "language_info": {
      "name": "python"
    },
    "widgets": {
      "application/vnd.jupyter.widget-state+json": {
        "e8cbc08c03fa43a39b6a1da5feabec25": {
          "model_module": "keplergl-jupyter",
          "model_name": "KeplerGlModal",
          "model_module_version": "^0.3.2",
          "state": {
            "_view_name": "KeplerGlView",
            "_dom_classes": [],
            "_model_name": "KeplerGlModal",
            "config": {
              "version": "v1",
              "config": {
                "visState": {
                  "filters": [],
                  "layers": [
                    {
                      "id": "q9881vb",
                      "type": "point",
                      "config": {
                        "dataId": "unnamed",
                        "label": "Point",
                        "color": [
                          18,
                          147,
                          154
                        ],
                        "highlightColor": [
                          252,
                          242,
                          26,
                          255
                        ],
                        "columns": {
                          "lat": "Latitude",
                          "lng": "Longitude",
                          "altitude": null
                        },
                        "isVisible": true,
                        "visConfig": {
                          "radius": 10,
                          "fixedRadius": false,
                          "opacity": 0.8,
                          "outline": false,
                          "thickness": 2,
                          "strokeColor": null,
                          "colorRange": {
                            "name": "Global Warming",
                            "type": "sequential",
                            "category": "Uber",
                            "colors": [
                              "#5A1846",
                              "#900C3F",
                              "#C70039",
                              "#E3611C",
                              "#F1920E",
                              "#FFC300"
                            ]
                          },
                          "strokeColorRange": {
                            "name": "Global Warming",
                            "type": "sequential",
                            "category": "Uber",
                            "colors": [
                              "#5A1846",
                              "#900C3F",
                              "#C70039",
                              "#E3611C",
                              "#F1920E",
                              "#FFC300"
                            ]
                          },
                          "radiusRange": [
                            0,
                            50
                          ],
                          "filled": true
                        },
                        "hidden": false,
                        "textLabel": [
                          {
                            "field": null,
                            "color": [
                              255,
                              255,
                              255
                            ],
                            "size": 18,
                            "offset": [
                              0,
                              0
                            ],
                            "anchor": "start",
                            "alignment": "center"
                          }
                        ]
                      },
                      "visualChannels": {
                        "colorField": null,
                        "colorScale": "quantile",
                        "strokeColorField": null,
                        "strokeColorScale": "quantile",
                        "sizeField": null,
                        "sizeScale": "linear"
                      }
                    }
                  ],
                  "interactionConfig": {
                    "tooltip": {
                      "fieldsToShow": {
                        "unnamed": [
                          {
                            "name": "ID",
                            "format": null
                          },
                          {
                            "name": "Latitude",
                            "format": null
                          },
                          {
                            "name": "Longitude",
                            "format": null
                          }
                        ]
                      },
                      "compareMode": false,
                      "compareType": "absolute",
                      "enabled": true
                    },
                    "brush": {
                      "size": 0.5,
                      "enabled": false
                    },
                    "geocoder": {
                      "enabled": false
                    },
                    "coordinate": {
                      "enabled": false
                    }
                  },
                  "layerBlending": "normal",
                  "splitMaps": [],
                  "animationConfig": {
                    "currentTime": null,
                    "speed": 1
                  }
                },
                "mapState": {
                  "bearing": 24,
                  "dragRotate": true,
                  "latitude": -22.850366621766305,
                  "longitude": -47.03808819262731,
                  "pitch": 50,
                  "zoom": 12.677604216415832,
                  "isSplit": false
                },
                "mapStyle": {
                  "styleType": "dark",
                  "topLayerGroups": {},
                  "visibleLayerGroups": {
                    "label": true,
                    "road": true,
                    "border": false,
                    "building": true,
                    "water": true,
                    "land": true,
                    "3d building": false
                  },
                  "threeDBuildingColor": [
                    9.665468314072013,
                    17.18305478057247,
                    31.1442867897876
                  ],
                  "mapStyles": {}
                }
              }
            },
            "_view_module": "keplergl-jupyter",
            "_model_module_version": "^0.3.2",
            "value": "Hello World!",
            "_view_count": null,
            "_view_module_version": "^0.3.2",
            "data": {
              "unnamed": {
                "index": [
                  0,
                  1
                ],
                "data": [
                  [
                    "A",
                    -22.85062,
                    -47.05375
                  ],
                  [
                    "B",
                    -22.85544,
                    -47.04473
                  ]
                ],
                "columns": [
                  "ID",
                  "Latitude",
                  "Longitude"
                ]
              }
            },
            "layout": "IPY_MODEL_569d8656beda444a8d3b46d3cd664c81",
            "height": 400,
            "_model_module": "keplergl-jupyter"
          }
        },
        "569d8656beda444a8d3b46d3cd664c81": {
          "model_module": "@jupyter-widgets/base",
          "model_name": "LayoutModel",
          "model_module_version": "1.2.0",
          "state": {
            "_view_name": "LayoutView",
            "grid_template_rows": null,
            "right": null,
            "justify_content": null,
            "_view_module": "@jupyter-widgets/base",
            "overflow": null,
            "_model_module_version": "1.2.0",
            "_view_count": null,
            "flex_flow": null,
            "width": null,
            "min_width": null,
            "border": null,
            "align_items": null,
            "bottom": null,
            "_model_module": "@jupyter-widgets/base",
            "top": null,
            "grid_column": null,
            "overflow_y": null,
            "overflow_x": null,
            "grid_auto_flow": null,
            "grid_area": null,
            "grid_template_columns": null,
            "flex": null,
            "_model_name": "LayoutModel",
            "justify_items": null,
            "grid_row": null,
            "max_height": null,
            "align_content": null,
            "visibility": null,
            "align_self": null,
            "height": null,
            "min_height": null,
            "padding": null,
            "grid_auto_rows": null,
            "grid_gap": null,
            "max_width": null,
            "order": null,
            "_view_module_version": "1.2.0",
            "grid_template_areas": null,
            "object_position": null,
            "object_fit": null,
            "grid_auto_columns": null,
            "margin": null,
            "display": null,
            "left": null
          }
        }
      }
    }
  },
  "cells": [
    {
      "cell_type": "markdown",
      "metadata": {
        "id": "ukOxpBPgUEFh"
      },
      "source": [
        "# Briefing"
      ]
    },
    {
      "cell_type": "markdown",
      "metadata": {
        "id": "t4HMoshOUI1-"
      },
      "source": [
        "This notebook will show how to calculate distance in meters between two coordinates with format WGS84"
      ]
    },
    {
      "cell_type": "markdown",
      "metadata": {
        "id": "aRpPgSdmUXlP"
      },
      "source": [
        "# Imports"
      ]
    },
    {
      "cell_type": "code",
      "metadata": {
        "id": "CTLuqlPdUaBD"
      },
      "source": [
        "import pandas as pd\n",
        "import numpy as np\n",
        "import math"
      ],
      "execution_count": 1,
      "outputs": []
    },
    {
      "cell_type": "markdown",
      "metadata": {
        "id": "ALmzTfCvUfAn"
      },
      "source": [
        "# Datasets"
      ]
    },
    {
      "cell_type": "code",
      "metadata": {
        "colab": {
          "base_uri": "https://localhost:8080/",
          "height": 111
        },
        "id": "W60yrZlpUjvl",
        "outputId": "e2131907-b0c6-4a41-e6e5-96ee82e72eef"
      },
      "source": [
        "df_lat_long = pd.DataFrame(columns=['ID','Latitude','Longitude'],\n",
        "                           data=[['A',-22.85062,-47.05375],\n",
        "                                 ['B',-22.85544,-47.04473]])\n",
        "\n",
        "df_lat_long.head()"
      ],
      "execution_count": 65,
      "outputs": [
        {
          "output_type": "execute_result",
          "data": {
            "text/html": [
              "<div>\n",
              "<style scoped>\n",
              "    .dataframe tbody tr th:only-of-type {\n",
              "        vertical-align: middle;\n",
              "    }\n",
              "\n",
              "    .dataframe tbody tr th {\n",
              "        vertical-align: top;\n",
              "    }\n",
              "\n",
              "    .dataframe thead th {\n",
              "        text-align: right;\n",
              "    }\n",
              "</style>\n",
              "<table border=\"1\" class=\"dataframe\">\n",
              "  <thead>\n",
              "    <tr style=\"text-align: right;\">\n",
              "      <th></th>\n",
              "      <th>ID</th>\n",
              "      <th>Latitude</th>\n",
              "      <th>Longitude</th>\n",
              "    </tr>\n",
              "  </thead>\n",
              "  <tbody>\n",
              "    <tr>\n",
              "      <th>0</th>\n",
              "      <td>A</td>\n",
              "      <td>-22.85062</td>\n",
              "      <td>-47.05375</td>\n",
              "    </tr>\n",
              "    <tr>\n",
              "      <th>1</th>\n",
              "      <td>B</td>\n",
              "      <td>-22.85544</td>\n",
              "      <td>-47.04473</td>\n",
              "    </tr>\n",
              "  </tbody>\n",
              "</table>\n",
              "</div>"
            ],
            "text/plain": [
              "  ID  Latitude  Longitude\n",
              "0  A -22.85062  -47.05375\n",
              "1  B -22.85544  -47.04473"
            ]
          },
          "metadata": {},
          "execution_count": 65
        }
      ]
    },
    {
      "cell_type": "markdown",
      "metadata": {
        "id": "2_X4BmINVESM"
      },
      "source": [
        "# Calculate distance"
      ]
    },
    {
      "cell_type": "code",
      "metadata": {
        "id": "lFcZRcjFVI88"
      },
      "source": [
        "def get_distance_lat_long_m(pos1, pos2):\n",
        "  \n",
        "  lat1 = pos1[0]\n",
        "  lon1 = pos1[1]\n",
        "  lat2 = pos2[0]\n",
        "  lon2 = pos2[1]\n",
        "\n",
        "  r = 6371000 # Earth radius in meters\n",
        "  \n",
        "  d = np.arccos(np.sin(lat1*np.pi/180)*np.sin(lat2*np.pi/180) + np.cos(lat1*np.pi/180)*np.cos(lat2*np.pi/180)*np.cos(lon2*np.pi/180-lon1*np.pi/180) ) * r\n",
        "  \n",
        "  return d"
      ],
      "execution_count": 54,
      "outputs": []
    },
    {
      "cell_type": "code",
      "metadata": {
        "id": "QG8NVyG9YYJw"
      },
      "source": [
        "dist_a_b = get_distance_lat_long_m(\n",
        "    df_lat_long[df_lat_long.ID == 'A'][['LAT_Y','LONG_X']].values[0],\n",
        "    df_lat_long[df_lat_long.ID == 'B'][['LAT_Y','LONG_X']].values[0],\n",
        "    )"
      ],
      "execution_count": 58,
      "outputs": []
    },
    {
      "cell_type": "markdown",
      "metadata": {
        "id": "KEAW7Sm3c2LL"
      },
      "source": [
        "# Plot in map"
      ]
    },
    {
      "cell_type": "code",
      "metadata": {
        "id": "aDESVq9adzAO"
      },
      "source": [
        "#!pip install keplergl"
      ],
      "execution_count": null,
      "outputs": []
    },
    {
      "cell_type": "code",
      "metadata": {
        "id": "htVMKbMxeXFu"
      },
      "source": [
        "from google.colab import output\n",
        "from keplergl import KeplerGl\n",
        "output.enable_custom_widget_manager()"
      ],
      "execution_count": 62,
      "outputs": []
    },
    {
      "cell_type": "code",
      "metadata": {
        "colab": {
          "base_uri": "https://localhost:8080/",
          "height": 421,
          "referenced_widgets": [
            "e8cbc08c03fa43a39b6a1da5feabec25",
            "569d8656beda444a8d3b46d3cd664c81"
          ]
        },
        "id": "5_QuyWg7c7rj",
        "outputId": "a70f832f-446c-4618-9645-53fb40c9ba41"
      },
      "source": [
        "map_ab = KeplerGl()\n",
        "map_ab.add_data(data=df_lat_long)\n",
        "map_ab"
      ],
      "execution_count": 66,
      "outputs": [
        {
          "output_type": "stream",
          "name": "stdout",
          "text": [
            "User Guide: https://docs.kepler.gl/docs/keplergl-jupyter\n"
          ]
        },
        {
          "output_type": "display_data",
          "data": {
            "application/vnd.jupyter.widget-view+json": {
              "model_id": "e8cbc08c03fa43a39b6a1da5feabec25",
              "version_minor": 0,
              "version_major": 2
            },
            "text/plain": [
              "KeplerGl(data={'unnamed': {'index': [0, 1], 'columns': ['ID', 'Latitude', 'Longitude'], 'data': [['A', -22.850…"
            ]
          },
          "metadata": {
            "application/vnd.jupyter.widget-view+json": {
              "colab": {
                "custom_widget_manager": {
                  "url": "https://ssl.gstatic.com/colaboratory-static/widgets/colab-cdn-widget-manager/e680a8b83b2ea152/manager.min.js"
                }
              }
            }
          }
        }
      ]
    },
    {
      "cell_type": "code",
      "metadata": {
        "id": "NKpGgVfDeXFv"
      },
      "source": [
        "from google.colab import output\n",
        "output.disable_custom_widget_manager()"
      ],
      "execution_count": null,
      "outputs": []
    }
  ]
}
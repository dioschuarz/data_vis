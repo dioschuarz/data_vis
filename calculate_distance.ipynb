{
  "nbformat": 4,
  "nbformat_minor": 0,
  "metadata": {
    "colab": {
      "name": "Calculate_distance.ipynb",
      "provenance": [],
      "authorship_tag": "ABX9TyMrFtovNUGPHGyR6wImD2MC"
    },
    "kernelspec": {
      "name": "python3",
      "display_name": "Python 3"
    },
    "language_info": {
      "name": "python"
    }
  },
  "cells": [
    {
      "cell_type": "markdown",
      "metadata": {
        "id": "ukOxpBPgUEFh"
      },
      "source": [
        "# Briefing"
      ]
    },
    {
      "cell_type": "markdown",
      "metadata": {
        "id": "t4HMoshOUI1-"
      },
      "source": [
        "This notebook will show how to calculate distance in meters between two coordinates with format WGS84"
      ]
    },
    {
      "cell_type": "markdown",
      "metadata": {
        "id": "aRpPgSdmUXlP"
      },
      "source": [
        "# Imports"
      ]
    },
    {
      "cell_type": "code",
      "metadata": {
        "id": "CTLuqlPdUaBD"
      },
      "source": [
        "import pandas as pd\n",
        "import numpy as np\n",
        "import math"
      ],
      "execution_count": 1,
      "outputs": []
    },
    {
      "cell_type": "markdown",
      "metadata": {
        "id": "ALmzTfCvUfAn"
      },
      "source": [
        "# Datasets"
      ]
    },
    {
      "cell_type": "code",
      "metadata": {
        "colab": {
          "base_uri": "https://localhost:8080/",
          "height": 111
        },
        "id": "W60yrZlpUjvl",
        "outputId": "e2131907-b0c6-4a41-e6e5-96ee82e72eef"
      },
      "source": [
        "df_lat_long = pd.DataFrame(columns=['ID','Latitude','Longitude'],\n",
        "                           data=[['A',-22.85062,-47.05375],\n",
        "                                 ['B',-22.85544,-47.04473]])\n",
        "\n",
        "df_lat_long.head()"
      ],
      "execution_count": 65,
      "outputs": [
        {
          "output_type": "execute_result",
          "data": {
            "text/html": [
              "<div>\n",
              "<style scoped>\n",
              "    .dataframe tbody tr th:only-of-type {\n",
              "        vertical-align: middle;\n",
              "    }\n",
              "\n",
              "    .dataframe tbody tr th {\n",
              "        vertical-align: top;\n",
              "    }\n",
              "\n",
              "    .dataframe thead th {\n",
              "        text-align: right;\n",
              "    }\n",
              "</style>\n",
              "<table border=\"1\" class=\"dataframe\">\n",
              "  <thead>\n",
              "    <tr style=\"text-align: right;\">\n",
              "      <th></th>\n",
              "      <th>ID</th>\n",
              "      <th>Latitude</th>\n",
              "      <th>Longitude</th>\n",
              "    </tr>\n",
              "  </thead>\n",
              "  <tbody>\n",
              "    <tr>\n",
              "      <th>0</th>\n",
              "      <td>A</td>\n",
              "      <td>-22.85062</td>\n",
              "      <td>-47.05375</td>\n",
              "    </tr>\n",
              "    <tr>\n",
              "      <th>1</th>\n",
              "      <td>B</td>\n",
              "      <td>-22.85544</td>\n",
              "      <td>-47.04473</td>\n",
              "    </tr>\n",
              "  </tbody>\n",
              "</table>\n",
              "</div>"
            ],
            "text/plain": [
              "  ID  Latitude  Longitude\n",
              "0  A -22.85062  -47.05375\n",
              "1  B -22.85544  -47.04473"
            ]
          },
          "metadata": {},
          "execution_count": 65
        }
      ]
    },
    {
      "cell_type": "markdown",
      "metadata": {
        "id": "2_X4BmINVESM"
      },
      "source": [
        "# Calculate distance"
      ]
    },
    {
      "cell_type": "code",
      "metadata": {
        "id": "lFcZRcjFVI88"
      },
      "source": [
        "def get_distance_lat_long_m(pos1, pos2):\n",
        "  \n",
        "  lat1 = pos1[0]\n",
        "  lon1 = pos1[1]\n",
        "  lat2 = pos2[0]\n",
        "  lon2 = pos2[1]\n",
        "\n",
        "  r = 6371000 # Earth radius in meters\n",
        "  \n",
        "  d = np.arccos(np.sin(lat1*np.pi/180)*np.sin(lat2*np.pi/180) + np.cos(lat1*np.pi/180)*np.cos(lat2*np.pi/180)*np.cos(lon2*np.pi/180-lon1*np.pi/180) ) * r\n",
        "  \n",
        "  return d"
      ],
      "execution_count": 54,
      "outputs": []
    },
    {
      "cell_type": "code",
      "metadata": {
        "id": "QG8NVyG9YYJw"
      },
      "source": [
        "dist_a_b = get_distance_lat_long_m(\n",
        "    df_lat_long[df_lat_long.ID == 'A'][['LAT_Y','LONG_X']].values[0],\n",
        "    df_lat_long[df_lat_long.ID == 'B'][['LAT_Y','LONG_X']].values[0],\n",
        "    )"
      ],
      "execution_count": 58,
      "outputs": []
    },
    {
      "cell_type": "markdown",
      "metadata": {
        "id": "KEAW7Sm3c2LL"
      },
      "source": [
        "# Plot in map"
      ]
    },
    {
      "cell_type": "code",
      "metadata": {
        "id": "hsrl6fHChHOr"
      },
      "source": [
        "import geopandas as gpd"
      ],
      "execution_count": 67,
      "outputs": []
    },
    {
      "cell_type": "code",
      "metadata": {
        "id": "R3QGnErMhKsn"
      },
      "source": [
        "gdf_lat_long = gpd.GeoDataFrame(df_lat_long, geometry=gpd.points_from_xy(df_lat_long.Longitude, df_lat_long.Latitude))"
      ],
      "execution_count": 70,
      "outputs": []
    },
    {
      "cell_type": "code",
      "metadata": {
        "colab": {
          "base_uri": "https://localhost:8080/",
          "height": 255
        },
        "id": "cdxf7pITh9Xq",
        "outputId": "df3ffb74-0521-4edf-b5fa-559db02fe03a"
      },
      "source": [
        "gdf_lat_long.plot()"
      ],
      "execution_count": 72,
      "outputs": [
        {
          "output_type": "execute_result",
          "data": {
            "text/plain": [
              "<matplotlib.axes._subplots.AxesSubplot at 0x7f505b00f8d0>"
            ]
          },
          "metadata": {},
          "execution_count": 72
        },
        {
          "output_type": "display_data",
          "data": {
            "image/png": "[encoded data removed]",
            "text/plain": [
              "<Figure size 432x288 with 1 Axes>"
            ]
          },
          "metadata": {
            "needs_background": "light"
          }
        }
      ]
    },
    {
      "cell_type": "code",
      "metadata": {
        "id": "aDESVq9adzAO"
      },
      "source": [
        "#!pip install keplergl"
      ],
      "execution_count": null,
      "outputs": []
    },
    {
      "cell_type": "code",
      "metadata": {
        "id": "htVMKbMxeXFu"
      },
      "source": [
        "#from google.colab import output\n",
        "#from keplergl import KeplerGl\n",
        "#output.enable_custom_widget_manager()\n",
        "\n",
        "\n",
        "#map_ab = KeplerGl()\n",
        "#map_ab.add_data(data=df_lat_long)\n",
        "#map_ab"
      ],
      "execution_count": 62,
      "outputs": []
    },
    {
      "cell_type": "code",
      "metadata": {
        "id": "NKpGgVfDeXFv"
      },
      "source": [
        "#from google.colab import output\n",
        "#output.disable_custom_widget_manager()"
      ],
      "execution_count": null,
      "outputs": []
    }
  ]
}
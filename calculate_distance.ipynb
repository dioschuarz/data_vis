{
  "nbformat": 4,
  "nbformat_minor": 0,
  "metadata": {
    "colab": {
      "name": "calculate_distance.ipynb",
      "provenance": [],
      "authorship_tag": "ABX9TyPTC55jNU4qRYMk62Ttvn6+",
      "include_colab_link": true
    },
    "kernelspec": {
      "name": "python3",
      "display_name": "Python 3"
    },
    "language_info": {
      "name": "python"
    }
  },
  "cells": [
    {
      "cell_type": "markdown",
      "metadata": {
        "id": "view-in-github",
        "colab_type": "text"
      },
      "source": [
        "<a href=\"https://colab.research.google.com/github/dioschuarz/data_vis/blob/main/calculate_distance.ipynb\" target=\"_parent\"><img src=\"https://colab.research.google.com/assets/colab-badge.svg\" alt=\"Open In Colab\"/></a>"
      ]
    },
    {
      "cell_type": "markdown",
      "metadata": {
        "id": "ukOxpBPgUEFh"
      },
      "source": [
        "# Briefing"
      ]
    },
    {
      "cell_type": "markdown",
      "metadata": {
        "id": "t4HMoshOUI1-"
      },
      "source": [
        "This notebook will show how to calculate distance in meters between two coordinates with format WGS84"
      ]
    },
    {
      "cell_type": "markdown",
      "metadata": {
        "id": "aRpPgSdmUXlP"
      },
      "source": [
        "# Imports"
      ]
    },
    {
      "cell_type": "code",
      "metadata": {
        "id": "CTLuqlPdUaBD"
      },
      "source": [
        "import pandas as pd\n",
        "import numpy as np"
      ],
      "execution_count": 1,
      "outputs": []
    },
    {
      "cell_type": "markdown",
      "metadata": {
        "id": "ALmzTfCvUfAn"
      },
      "source": [
        "# Datasets"
      ]
    },
    {
      "cell_type": "code",
      "metadata": {
        "colab": {
          "base_uri": "https://localhost:8080/",
          "height": 111
        },
        "id": "W60yrZlpUjvl",
        "outputId": "cbb43f03-70ed-415a-cc49-f48b1d822b5c"
      },
      "source": [
        "df_lat_long = pd.DataFrame(columns=['ID','Latitude','Longitude'],\n",
        "                           data=[['A',-22.85062,-47.05375],\n",
        "                                 ['B',-22.85544,-47.04473]])\n",
        "\n",
        "df_lat_long.head()"
      ],
      "execution_count": 2,
      "outputs": [
        {
          "output_type": "execute_result",
          "data": {
            "text/html": [
              "<div>\n",
              "<style scoped>\n",
              "    .dataframe tbody tr th:only-of-type {\n",
              "        vertical-align: middle;\n",
              "    }\n",
              "\n",
              "    .dataframe tbody tr th {\n",
              "        vertical-align: top;\n",
              "    }\n",
              "\n",
              "    .dataframe thead th {\n",
              "        text-align: right;\n",
              "    }\n",
              "</style>\n",
              "<table border=\"1\" class=\"dataframe\">\n",
              "  <thead>\n",
              "    <tr style=\"text-align: right;\">\n",
              "      <th></th>\n",
              "      <th>ID</th>\n",
              "      <th>Latitude</th>\n",
              "      <th>Longitude</th>\n",
              "    </tr>\n",
              "  </thead>\n",
              "  <tbody>\n",
              "    <tr>\n",
              "      <th>0</th>\n",
              "      <td>A</td>\n",
              "      <td>-22.85062</td>\n",
              "      <td>-47.05375</td>\n",
              "    </tr>\n",
              "    <tr>\n",
              "      <th>1</th>\n",
              "      <td>B</td>\n",
              "      <td>-22.85544</td>\n",
              "      <td>-47.04473</td>\n",
              "    </tr>\n",
              "  </tbody>\n",
              "</table>\n",
              "</div>"
            ],
            "text/plain": [
              "  ID  Latitude  Longitude\n",
              "0  A -22.85062  -47.05375\n",
              "1  B -22.85544  -47.04473"
            ]
          },
          "metadata": {},
          "execution_count": 2
        }
      ]
    },
    {
      "cell_type": "markdown",
      "metadata": {
        "id": "2_X4BmINVESM"
      },
      "source": [
        "# Calculate distance"
      ]
    },
    {
      "cell_type": "code",
      "metadata": {
        "id": "lFcZRcjFVI88"
      },
      "source": [
        "def get_distance_lat_long_m(pos1, pos2):\n",
        "  \n",
        "  lat1 = pos1[0]\n",
        "  lon1 = pos1[1]\n",
        "  lat2 = pos2[0]\n",
        "  lon2 = pos2[1]\n",
        "\n",
        "  r = 6371000 # Earth radius in meters\n",
        "  \n",
        "  d = np.arccos(np.sin(lat1*np.pi/180)*np.sin(lat2*np.pi/180) + np.cos(lat1*np.pi/180)*np.cos(lat2*np.pi/180)*np.cos(lon2*np.pi/180-lon1*np.pi/180) ) * r\n",
        "  \n",
        "  return d"
      ],
      "execution_count": 3,
      "outputs": []
    },
    {
      "cell_type": "code",
      "metadata": {
        "id": "QG8NVyG9YYJw"
      },
      "source": [
        "dist_a_b = get_distance_lat_long_m(\n",
        "    df_lat_long[df_lat_long.ID == 'A'][['Latitude','Longitude']].values[0],\n",
        "    df_lat_long[df_lat_long.ID == 'B'][['Latitude','Longitude']].values[0],\n",
        "    )"
      ],
      "execution_count": 4,
      "outputs": []
    },
    {
      "cell_type": "markdown",
      "metadata": {
        "id": "KEAW7Sm3c2LL"
      },
      "source": [
        "# Plot in map"
      ]
    },
    {
      "cell_type": "code",
      "metadata": {
        "colab": {
          "base_uri": "https://localhost:8080/"
        },
        "id": "Hpd1pxk0iqAp",
        "outputId": "0cad3026-7558-446b-edea-37889c3cdf57"
      },
      "source": [
        "import folium\n",
        "import matplotlib as plt"
      ],
      "execution_count": 5,
      "outputs": [
        {
          "output_type": "stream",
          "name": "stderr",
          "text": [
            "/usr/local/lib/python3.7/dist-packages/requests/__init__.py:91: RequestsDependencyWarning: urllib3 (1.26.7) or chardet (3.0.4) doesn't match a supported version!\n",
            "  RequestsDependencyWarning)\n"
          ]
        }
      ]
    },
    {
      "cell_type": "code",
      "metadata": {
        "colab": {
          "base_uri": "https://localhost:8080/",
          "height": 321
        },
        "id": "nLZUNa4SirN_",
        "outputId": "e38fc457-3fd2-431a-8d7a-7aa062efc942"
      },
      "source": [
        "f = folium.Figure(height=300)\n",
        "\n",
        "map_ab = folium.Map(location=[df_lat_long.Latitude.mean(), \n",
        "                           df_lat_long.Longitude.mean()], \n",
        "                 zoom_start=14, \n",
        "                 control_scale=True).add_to(f)\n",
        "\n",
        "for index, location_info in df_lat_long.iterrows():\n",
        "  folium.Marker([location_info[\"Latitude\"], \n",
        "                location_info[\"Longitude\"]], \n",
        "                popup=location_info[\"ID\"]).add_to(map_ab)\n",
        "\n",
        "map_ab"
      ],
      "execution_count": 6,
      "outputs": [
        {
          "output_type": "execute_result",
          "data": {
            "text/html": [
              "<iframe src=\"about:blank\" width=\"100%\" height=\"300\"style=\"border:none !important;\" data-html=%3C%21DOCTYPE%20html%3E%0A%3Chead%3E%20%20%20%20%0A%20%20%20%20%3Cmeta%20http-equiv%3D%22content-type%22%20content%3D%22text/html%3B%20charset%3DUTF-8%22%20/%3E%0A%20%20%20%20%3Cscript%3EL_PREFER_CANVAS%3Dfalse%3B%20L_NO_TOUCH%3Dfalse%3B%20L_DISABLE_3D%3Dfalse%3B%3C/script%3E%0A%20%20%20%20%3Cscript%20src%3D%22https%3A//cdn.jsdelivr.net/npm/leaflet%401.4.0/dist/leaflet.js%22%3E%3C/script%3E%0A%20%20%20%20%3Cscript%20src%3D%22https%3A//code.jquery.com/jquery-1.12.4.min.js%22%3E%3C/script%3E%0A%20%20%20%20%3Cscript%20src%3D%22https%3A//maxcdn.bootstrapcdn.com/bootstrap/3.2.0/js/bootstrap.min.js%22%3E%3C/script%3E%0A%20%20%20%20%3Cscript%20src%3D%22https%3A//cdnjs.cloudflare.com/ajax/libs/Leaflet.awesome-markers/2.0.2/leaflet.awesome-markers.js%22%3E%3C/script%3E%0A%20%20%20%20%3Clink%20rel%3D%22stylesheet%22%20href%3D%22https%3A//cdn.jsdelivr.net/npm/leaflet%401.4.0/dist/leaflet.css%22/%3E%0A%20%20%20%20%3Clink%20rel%3D%22stylesheet%22%20href%3D%22https%3A//maxcdn.bootstrapcdn.com/bootstrap/3.2.0/css/bootstrap.min.css%22/%3E%0A%20%20%20%20%3Clink%20rel%3D%22stylesheet%22%20href%3D%22https%3A//maxcdn.bootstrapcdn.com/bootstrap/3.2.0/css/bootstrap-theme.min.css%22/%3E%0A%20%20%20%20%3Clink%20rel%3D%22stylesheet%22%20href%3D%22https%3A//maxcdn.bootstrapcdn.com/font-awesome/4.6.3/css/font-awesome.min.css%22/%3E%0A%20%20%20%20%3Clink%20rel%3D%22stylesheet%22%20href%3D%22https%3A//cdnjs.cloudflare.com/ajax/libs/Leaflet.awesome-markers/2.0.2/leaflet.awesome-markers.css%22/%3E%0A%20%20%20%20%3Clink%20rel%3D%22stylesheet%22%20href%3D%22https%3A//rawcdn.githack.com/python-visualization/folium/master/folium/templates/leaflet.awesome.rotate.css%22/%3E%0A%20%20%20%20%3Cstyle%3Ehtml%2C%20body%20%7Bwidth%3A%20100%25%3Bheight%3A%20100%25%3Bmargin%3A%200%3Bpadding%3A%200%3B%7D%3C/style%3E%0A%20%20%20%20%3Cstyle%3E%23map%20%7Bposition%3Aabsolute%3Btop%3A0%3Bbottom%3A0%3Bright%3A0%3Bleft%3A0%3B%7D%3C/style%3E%0A%20%20%20%20%0A%20%20%20%20%3Cmeta%20name%3D%22viewport%22%20content%3D%22width%3Ddevice-width%2C%0A%20%20%20%20%20%20%20%20initial-scale%3D1.0%2C%20maximum-scale%3D1.0%2C%20user-scalable%3Dno%22%20/%3E%0A%20%20%20%20%3Cstyle%3E%23map_4b8c978f0aea4ff891de5f01b536e5df%20%7B%0A%20%20%20%20%20%20%20%20position%3A%20relative%3B%0A%20%20%20%20%20%20%20%20width%3A%20100.0%25%3B%0A%20%20%20%20%20%20%20%20height%3A%20100.0%25%3B%0A%20%20%20%20%20%20%20%20left%3A%200.0%25%3B%0A%20%20%20%20%20%20%20%20top%3A%200.0%25%3B%0A%20%20%20%20%20%20%20%20%7D%0A%20%20%20%20%3C/style%3E%0A%3C/head%3E%0A%3Cbody%3E%20%20%20%20%0A%20%20%20%20%0A%20%20%20%20%3Cdiv%20class%3D%22folium-map%22%20id%3D%22map_4b8c978f0aea4ff891de5f01b536e5df%22%20%3E%3C/div%3E%0A%3C/body%3E%0A%3Cscript%3E%20%20%20%20%0A%20%20%20%20%0A%20%20%20%20%0A%20%20%20%20%20%20%20%20var%20bounds%20%3D%20null%3B%0A%20%20%20%20%0A%0A%20%20%20%20var%20map_4b8c978f0aea4ff891de5f01b536e5df%20%3D%20L.map%28%0A%20%20%20%20%20%20%20%20%27map_4b8c978f0aea4ff891de5f01b536e5df%27%2C%20%7B%0A%20%20%20%20%20%20%20%20center%3A%20%5B-22.85303%2C%20-47.04924%5D%2C%0A%20%20%20%20%20%20%20%20zoom%3A%2014%2C%0A%20%20%20%20%20%20%20%20maxBounds%3A%20bounds%2C%0A%20%20%20%20%20%20%20%20layers%3A%20%5B%5D%2C%0A%20%20%20%20%20%20%20%20worldCopyJump%3A%20false%2C%0A%20%20%20%20%20%20%20%20crs%3A%20L.CRS.EPSG3857%2C%0A%20%20%20%20%20%20%20%20zoomControl%3A%20true%2C%0A%20%20%20%20%20%20%20%20%7D%29%3B%0AL.control.scale%28%29.addTo%28map_4b8c978f0aea4ff891de5f01b536e5df%29%3B%0A%0A%20%20%20%20%0A%20%20%20%20var%20tile_layer_e5116528b9674dfb8e8cd075fa91712f%20%3D%20L.tileLayer%28%0A%20%20%20%20%20%20%20%20%27https%3A//%7Bs%7D.tile.openstreetmap.org/%7Bz%7D/%7Bx%7D/%7By%7D.png%27%2C%0A%20%20%20%20%20%20%20%20%7B%0A%20%20%20%20%20%20%20%20%22attribution%22%3A%20null%2C%0A%20%20%20%20%20%20%20%20%22detectRetina%22%3A%20false%2C%0A%20%20%20%20%20%20%20%20%22maxNativeZoom%22%3A%2018%2C%0A%20%20%20%20%20%20%20%20%22maxZoom%22%3A%2018%2C%0A%20%20%20%20%20%20%20%20%22minZoom%22%3A%200%2C%0A%20%20%20%20%20%20%20%20%22noWrap%22%3A%20false%2C%0A%20%20%20%20%20%20%20%20%22opacity%22%3A%201%2C%0A%20%20%20%20%20%20%20%20%22subdomains%22%3A%20%22abc%22%2C%0A%20%20%20%20%20%20%20%20%22tms%22%3A%20false%0A%7D%29.addTo%28map_4b8c978f0aea4ff891de5f01b536e5df%29%3B%0A%20%20%20%20%0A%20%20%20%20%20%20%20%20var%20marker_dd7a4070630f4a43b09c0d498bf3ff63%20%3D%20L.marker%28%0A%20%20%20%20%20%20%20%20%20%20%20%20%5B-22.85062%2C%20-47.05375%5D%2C%0A%20%20%20%20%20%20%20%20%20%20%20%20%7B%0A%20%20%20%20%20%20%20%20%20%20%20%20%20%20%20%20icon%3A%20new%20L.Icon.Default%28%29%2C%0A%20%20%20%20%20%20%20%20%20%20%20%20%20%20%20%20%7D%0A%20%20%20%20%20%20%20%20%20%20%20%20%29.addTo%28map_4b8c978f0aea4ff891de5f01b536e5df%29%3B%0A%20%20%20%20%20%20%20%20%0A%20%20%20%20%0A%20%20%20%20%20%20%20%20%20%20%20%20var%20popup_ce5a788bce32428fb76deeef62e85628%20%3D%20L.popup%28%7BmaxWidth%3A%20%27100%25%27%0A%20%20%20%20%20%20%20%20%20%20%20%20%0A%20%20%20%20%20%20%20%20%20%20%20%20%7D%29%3B%0A%0A%20%20%20%20%20%20%20%20%20%20%20%20%0A%20%20%20%20%20%20%20%20%20%20%20%20%20%20%20%20var%20html_17e235ce9d1840f9a1fe2e8f1738c025%20%3D%20%24%28%60%3Cdiv%20id%3D%22html_17e235ce9d1840f9a1fe2e8f1738c025%22%20style%3D%22width%3A%20100.0%25%3B%20height%3A%20100.0%25%3B%22%3EA%3C/div%3E%60%29%5B0%5D%3B%0A%20%20%20%20%20%20%20%20%20%20%20%20%20%20%20%20popup_ce5a788bce32428fb76deeef62e85628.setContent%28html_17e235ce9d1840f9a1fe2e8f1738c025%29%3B%0A%20%20%20%20%20%20%20%20%20%20%20%20%0A%0A%20%20%20%20%20%20%20%20%20%20%20%20marker_dd7a4070630f4a43b09c0d498bf3ff63.bindPopup%28popup_ce5a788bce32428fb76deeef62e85628%29%0A%20%20%20%20%20%20%20%20%20%20%20%20%3B%0A%0A%20%20%20%20%20%20%20%20%20%20%20%20%0A%20%20%20%20%20%20%20%20%0A%20%20%20%20%0A%20%20%20%20%20%20%20%20var%20marker_eaf443981d394b6cad8cbcb79417a3d8%20%3D%20L.marker%28%0A%20%20%20%20%20%20%20%20%20%20%20%20%5B-22.85544%2C%20-47.04473%5D%2C%0A%20%20%20%20%20%20%20%20%20%20%20%20%7B%0A%20%20%20%20%20%20%20%20%20%20%20%20%20%20%20%20icon%3A%20new%20L.Icon.Default%28%29%2C%0A%20%20%20%20%20%20%20%20%20%20%20%20%20%20%20%20%7D%0A%20%20%20%20%20%20%20%20%20%20%20%20%29.addTo%28map_4b8c978f0aea4ff891de5f01b536e5df%29%3B%0A%20%20%20%20%20%20%20%20%0A%20%20%20%20%0A%20%20%20%20%20%20%20%20%20%20%20%20var%20popup_46eb3205fbb04f8cb003e7c90af0af7a%20%3D%20L.popup%28%7BmaxWidth%3A%20%27100%25%27%0A%20%20%20%20%20%20%20%20%20%20%20%20%0A%20%20%20%20%20%20%20%20%20%20%20%20%7D%29%3B%0A%0A%20%20%20%20%20%20%20%20%20%20%20%20%0A%20%20%20%20%20%20%20%20%20%20%20%20%20%20%20%20var%20html_10eb78f595cc47e8965e413ce851174c%20%3D%20%24%28%60%3Cdiv%20id%3D%22html_10eb78f595cc47e8965e413ce851174c%22%20style%3D%22width%3A%20100.0%25%3B%20height%3A%20100.0%25%3B%22%3EB%3C/div%3E%60%29%5B0%5D%3B%0A%20%20%20%20%20%20%20%20%20%20%20%20%20%20%20%20popup_46eb3205fbb04f8cb003e7c90af0af7a.setContent%28html_10eb78f595cc47e8965e413ce851174c%29%3B%0A%20%20%20%20%20%20%20%20%20%20%20%20%0A%0A%20%20%20%20%20%20%20%20%20%20%20%20marker_eaf443981d394b6cad8cbcb79417a3d8.bindPopup%28popup_46eb3205fbb04f8cb003e7c90af0af7a%29%0A%20%20%20%20%20%20%20%20%20%20%20%20%3B%0A%0A%20%20%20%20%20%20%20%20%20%20%20%20%0A%20%20%20%20%20%20%20%20%0A%3C/script%3E onload=\"this.contentDocument.open();this.contentDocument.write(    decodeURIComponent(this.getAttribute('data-html')));this.contentDocument.close();\" \"allowfullscreen\" \"webkitallowfullscreen\" \"mozallowfullscreen\"></iframe>"
            ],
            "text/plain": [
              "<folium.folium.Map at 0x7f534d635f10>"
            ]
          },
          "metadata": {},
          "execution_count": 6
        }
      ]
    },
    {
      "cell_type": "markdown",
      "metadata": {
        "id": "vF1TdSZixUJ8"
      },
      "source": [
        "https://colab.research.google.com/drive/1WmGV9LtyoNWpMn43u90Q1gfo3HlpFNoh?usp=sharing"
      ]
    },
    {
      "cell_type": "markdown",
      "metadata": {
        "id": "rpheBikfxMQc"
      },
      "source": [
        "# Sample in PNG"
      ]
    },
    {
      "cell_type": "markdown",
      "metadata": {
        "id": "kh6lCoqLp4DB"
      },
      "source": [
        "![](https://github.com/dioschuarz/data_vis/blob/main/exports/map_ab.png?raw=true)"
      ]
    },
    {
      "cell_type": "markdown",
      "metadata": {
        "id": "f7LXKhRSmCLr"
      },
      "source": [
        "# Other examples"
      ]
    },
    {
      "cell_type": "code",
      "metadata": {
        "id": "hsrl6fHChHOr"
      },
      "source": [
        "#import geopandas as gpd"
      ],
      "execution_count": 7,
      "outputs": []
    },
    {
      "cell_type": "code",
      "metadata": {
        "id": "R3QGnErMhKsn"
      },
      "source": [
        "#gdf_lat_long = gpd.GeoDataFrame(df_lat_long, geometry=gpd.points_from_xy(df_lat_long.Longitude, df_lat_long.Latitude))"
      ],
      "execution_count": 8,
      "outputs": []
    },
    {
      "cell_type": "code",
      "metadata": {
        "id": "cdxf7pITh9Xq"
      },
      "source": [
        "#gdf_lat_long.plot()"
      ],
      "execution_count": 9,
      "outputs": []
    },
    {
      "cell_type": "code",
      "metadata": {
        "id": "aDESVq9adzAO"
      },
      "source": [
        "#!pip install keplergl"
      ],
      "execution_count": 10,
      "outputs": []
    },
    {
      "cell_type": "code",
      "metadata": {
        "id": "htVMKbMxeXFu"
      },
      "source": [
        "#from google.colab import output\n",
        "#from keplergl import KeplerGl\n",
        "#output.enable_custom_widget_manager()\n",
        "\n",
        "\n",
        "#map_ab = KeplerGl()\n",
        "#map_ab.add_data(data=df_lat_long)\n",
        "#map_ab"
      ],
      "execution_count": 11,
      "outputs": []
    },
    {
      "cell_type": "code",
      "metadata": {
        "id": "NKpGgVfDeXFv"
      },
      "source": [
        "#from google.colab import output\n",
        "#output.disable_custom_widget_manager()"
      ],
      "execution_count": 12,
      "outputs": []
    }
  ]
}